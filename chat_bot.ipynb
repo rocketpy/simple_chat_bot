{
 "cells": [
  {
   "cell_type": "code",
   "execution_count": null,
   "metadata": {},
   "outputs": [],
   "source": [
    "#  https://chatterbot.readthedocs.io/en/stable/tutorial.html\n",
    "#  https://pypi.org/project/chatterbot-corpus/  - for training\n",
    "#  pip install chatterbot"
   ]
  },
  {
   "cell_type": "code",
   "execution_count": null,
   "metadata": {},
   "outputs": [],
   "source": [
    "from chatterbot import ChatBot\n",
    "\n",
    "bot = ChatBot('any_name') "
   ]
  },
  {
   "cell_type": "code",
   "execution_count": null,
   "metadata": {},
   "outputs": [],
   "source": [
    "#  train\n",
    "#  https://chatterbot.readthedocs.io/en/stable/training.html\n",
    "from chatterbot import ChatBot\n",
    "from chatterbot.trainers import ListTrainer\n",
    "\n",
    "\n",
    "bot = ChatBot('any_name', trainer='chatterbot.trainers.ChatterBotCorpusTrainer') \n",
    "chatbot.train('chatterbot.corpus.english')\n",
    "\n",
    "while True:\n",
    "    request = input('You : ')\n",
    "    response = chatbot.get_response(request)\n",
    "    print('Bot : ', response)"
   ]
  }
 ],
 "metadata": {
  "kernelspec": {
   "display_name": "Python 3",
   "language": "python",
   "name": "python3"
  },
  "language_info": {
   "codemirror_mode": {
    "name": "ipython",
    "version": 3
   },
   "file_extension": ".py",
   "mimetype": "text/x-python",
   "name": "python",
   "nbconvert_exporter": "python",
   "pygments_lexer": "ipython3",
   "version": "3.6.2"
  }
 },
 "nbformat": 4,
 "nbformat_minor": 2
}
